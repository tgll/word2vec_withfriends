{
 "cells": [
  {
   "cell_type": "markdown",
   "metadata": {},
   "source": [
    "# Word2Vec and Doc2Vec with Friends\n",
    "<img src=\"Files/headerfriends.png\" width=\"700\" >\n",
    "\n",
    "This notebook is based on the Word2Vec course of Navid Nobani.\n",
    "\n",
    "The goals here are to:\n",
    "* learn about numerical representation of text and Word-Embedding with Word2Vec and Doc2Vec algorithms.\n",
    "* try out the dataset to make familiar with the concepts (so the results are not groundbreaking but we focus on the way to do it instead)\n",
    "\n",
    "\n",
    "### Requirements\n",
    "\n",
    "[Friends dialogue dataset](https://fangj.github.io/friends/)  that contains the values ``author``, ``episode_number``, ``episode_title``, ``quote``, ``quote_order`` and ``season``. We will use only ``author`` and ``quote``\n",
    "\n",
    "Python3 with the following libraries:\n",
    "\n",
    "* **pandas** _(pip install pandas)_\n",
    "* **numpy** _(python -m pip install --user numpy)_\n",
    "* **gensim** _(pip install --upgrade gensim)_\n",
    "* **tqdm** _(pip install tqdm)_\n",
    "* **matplotlib** _(python -m pip install -U matplotlib)_\n",
    "* **sklearn** _(pip install -U scikit-learn)_\n",
    "* **SpaCy** _(python3 -m pip install spacy)_ --> python -m spacy download en\n",
    "* **testfixtures** _(pip install testfixtures)_\n",
    "\n",
    "___\n",
    "___"
   ]
  },
  {
   "cell_type": "markdown",
   "metadata": {},
   "source": [
    "## <p><font color=mediumorchid>&#127750; Introduction </font></p>\n",
    "### <p><font color=mediumvioletred>&#128509; 1) What is word-embedding? </font></p> \n",
    "\n",
    "Word embeddings are a type of word representation that allows words with similar meaning to have a similar representation. ([Machine Learning Mastery](https://machinelearningmastery.com/what-are-word-embeddings/))<br>\n",
    "Word Embeddings are the texts converted into numbers and there may be different numerical representations of the same text. ([Analytics Vidhya](https://www.analyticsvidhya.com/blog/2017/06/word-embeddings-count-word2veec/))<br>\n",
    "Word embeddings are vector representations of a particular word. ([Towards Data Science](https://towardsdatascience.com/introduction-to-word-embedding-and-word2vec-652d0c2060fa))<br>\n",
    "\n",
    "One famous example:\n",
    "<img src=\"Files/wordvectors.png\" height=\"300\" width=\"600\">\n",
    "\n",
    "\n",
    "\n",
    "**Main category of numerical representation methods**:\n",
    "* __Frequency Based Methods__\n",
    "    * Count Vectors\n",
    "    * TF-IDF\n",
    "    * Co-Occurance Vectors\n",
    "    * ...\n",
    "* __Predication Based Methods__\n",
    "    * Word2Vec (one of the most common)\n",
    "    * GloVe\n",
    "    * Tyrion\n",
    "    * ...\n",
    "\n",
    "Prediction Bases Methods are both more sophisticated and computationally expensive compared to Frequency Based Methods."
   ]
  },
  {
   "cell_type": "markdown",
   "metadata": {},
   "source": [
    "### <p><font color=mediumvioletred>&#128509; 2) Expected outcome of a Word2Vec model </font></p> \n",
    "A dense numerical vector with a pre-defined length.\n",
    "\n",
    "<img src=\"Files/word2vec.png\" height=\"300\" width=\"600\">\n",
    "\n",
    "Word2Vec is a neural network which performs a binary classification and uses the learned classifier weights as embeddings of words. Tthe classifier returns the probability of ___c___ being a context word for a target word ___t___. \n",
    "\n",
    "A Word2Vec model, internally uses one of the following algorithms to create the embeddings:\n",
    "\n",
    "* Continuous Bag Of Words (CBOW)\n",
    "* Skip-Gram (SG)"
   ]
  },
  {
   "cell_type": "markdown",
   "metadata": {},
   "source": [
    "### <p><font color=mediumvioletred>&#128509; 3) General mechanism of Word2Vec </font></p> \n",
    "Word2Vec uses a Neural Network in order to generate a corespondent vector for each word in the corpus. \n",
    "\n",
    "<img src=\"Files/NN_1.png\" height=\"300\" width=\"500\">\n",
    "\n",
    "An extremely simplified version of Word2Vec algorithm would be:\n",
    "* set the first word of corpus as target\n",
    "* based on the defined window size, set the neighbors as context of the target word\n",
    "* select random words from neighbors based on their vicinity to the target\n",
    "* for each neighbor and target word create a fully connected NN with one layer and no activation function. the task of NN is to decide if a given word of corpus could be a context word for the target or not\n",
    "* the weight matrix of the NN's hidden layer is the vector of the word.\n",
    "\n",
    "Following example shows a corpus with size of V and window size of 2:\n",
    "\n",
    "\n",
    "<img src=\"Files/NN_2.png\" width=\"400\" align=\"left\">\n",
    "<img src=\"Files/diff.png\" width=\"500\" align=\"center\">"
   ]
  },
  {
   "cell_type": "markdown",
   "metadata": {},
   "source": [
    "###  <p><font color=thistle> Difference between CBOW and SG </font></p>  \n",
    "\n",
    "__CBOW__ (Continuous Bag of Words): The input to the model is $𝑤_{𝑖−2},𝑤_{𝑖−1},𝑤_{𝑖+1},𝑤_{𝑖+2}$, the preceding and following words of the target word. The output of the neural network will be $𝑤_𝑖$. so the task is __\"predicting the word given its context\"__\n",
    "\n",
    "\n",
    "__Skip-gram__: The input to the model is $𝑤_𝑖$, and the output is $𝑤_{𝑖−2},𝑤_{𝑖−1},𝑤_{𝑖+1},𝑤_{𝑖+2}$. So the task here is __\"predicting the context given a word\"__. \n",
    "\n",
    "\n",
    "<img src=\"Files/cbow_skipgram.png\" height=\"300\" width=\"500\">\n",
    "\n",
    "_Note : As a hyperparameter you should define the Max window size but don't forget that the algorithm won't necessarily use all the words in the window but instead it randomly choose some of the words based on the distance they have from the target word (in a way that closer words have a higher chance to be picked)_\n",
    "\n",
    "### <p><font color=thistle> Which one to use? </font></p>  \n",
    "\n",
    "According to the author of Word2Vec:\n",
    "\n",
    "* __Skip-gram__: works well with small amount of the training data, represents well even rare words or phrases. \n",
    "* __CBOW__: several times faster to train than the skip-gram, slightly better accuracy for the frequent words.\n",
    "\n",
    "So it depends on your data and computational power\n",
    "\n",
    "Advice: check both"
   ]
  },
  {
   "cell_type": "markdown",
   "metadata": {},
   "source": [
    "## <p><font color=mediumorchid>&#127750; I) Creating a Word2Vec model </font></p>\n",
    "\n",
    "The following diagram shows the general process we will follow in this workshop\n",
    "<img src=\"Files/process_2.png\" height=\"300\" width=\"700\">"
   ]
  },
  {
   "cell_type": "markdown",
   "metadata": {},
   "source": [
    "### <p><font color=mediumvioletred>&#128509; 1) Loading libraries & data </font></p> "
   ]
  },
  {
   "cell_type": "code",
   "execution_count": 1,
   "metadata": {
    "ExecuteTime": {
     "end_time": "2019-03-14T16:14:05.372015Z",
     "start_time": "2019-03-14T16:14:05.325445Z"
    }
   },
   "outputs": [],
   "source": [
    "# LIBRARIES\n",
    "import numpy as np\n",
    "import spacy\n",
    "import re\n",
    "import os\n",
    "import pandas as pd\n",
    "import itertools\n",
    "from tqdm import tqdm_notebook\n",
    "import matplotlib.pyplot as plt\n",
    "import warnings\n",
    "\n",
    "import gensim.parsing as gm\n",
    "from gensim.parsing.preprocessing import preprocess_string\n",
    "from gensim.models.phrases import Phrases, Phraser\n",
    "from gensim.models import Word2Vec, Doc2Vec\n",
    "from gensim.models.doc2vec import TaggedDocument\n",
    "from gensim.test.test_doc2vec import ConcatenatedDoc2Vec\n",
    "\n",
    "from sklearn.manifold import TSNE\n",
    "from sklearn.decomposition import PCA\n",
    "from sklearn import utils\n",
    "from sklearn.linear_model import LogisticRegression\n",
    "from sklearn.metrics import accuracy_score, f1_score"
   ]
  },
  {
   "cell_type": "code",
   "execution_count": 2,
   "metadata": {
    "ExecuteTime": {
     "end_time": "2019-03-14T16:15:03.583831Z",
     "start_time": "2019-03-14T16:15:03.560700Z"
    }
   },
   "outputs": [],
   "source": [
    "# parameters\n",
    "plt.rcParams['figure.figsize'] = (15, 10)\n",
    "warnings.filterwarnings('ignore')\n",
    "cwd = os.getcwd() #cart working directory"
   ]
  },
  {
   "cell_type": "code",
   "execution_count": 3,
   "metadata": {
    "scrolled": true
   },
   "outputs": [
    {
     "data": {
      "text/html": [
       "<div>\n",
       "<style scoped>\n",
       "    .dataframe tbody tr th:only-of-type {\n",
       "        vertical-align: middle;\n",
       "    }\n",
       "\n",
       "    .dataframe tbody tr th {\n",
       "        vertical-align: top;\n",
       "    }\n",
       "\n",
       "    .dataframe thead th {\n",
       "        text-align: right;\n",
       "    }\n",
       "</style>\n",
       "<table border=\"1\" class=\"dataframe\">\n",
       "  <thead>\n",
       "    <tr style=\"text-align: right;\">\n",
       "      <th></th>\n",
       "      <th>raw_character_text</th>\n",
       "      <th>spoken_words</th>\n",
       "    </tr>\n",
       "  </thead>\n",
       "  <tbody>\n",
       "    <tr>\n",
       "      <th>29001</th>\n",
       "      <td>Rachel</td>\n",
       "      <td>Because a car backfired?</td>\n",
       "    </tr>\n",
       "    <tr>\n",
       "      <th>44813</th>\n",
       "      <td>Monica</td>\n",
       "      <td>What?! Come on I am tough! Punch me right here...</td>\n",
       "    </tr>\n",
       "    <tr>\n",
       "      <th>55212</th>\n",
       "      <td>Ross</td>\n",
       "      <td>(to Emma) Can you say Barbados?</td>\n",
       "    </tr>\n",
       "    <tr>\n",
       "      <th>28343</th>\n",
       "      <td>Phoebe</td>\n",
       "      <td>Umm, cups.</td>\n",
       "    </tr>\n",
       "    <tr>\n",
       "      <th>51765</th>\n",
       "      <td>CHANDLER</td>\n",
       "      <td>Is that really necessary?</td>\n",
       "    </tr>\n",
       "    <tr>\n",
       "      <th>46444</th>\n",
       "      <td>Rachel</td>\n",
       "      <td>Yeah, but I don't know why. Look at me, I'm ha...</td>\n",
       "    </tr>\n",
       "    <tr>\n",
       "      <th>27984</th>\n",
       "      <td>Joey</td>\n",
       "      <td>I got this pair marked excess, I gotta tell ya...</td>\n",
       "    </tr>\n",
       "    <tr>\n",
       "      <th>1038</th>\n",
       "      <td>Receptionist</td>\n",
       "      <td>(sarcastic) Oh, that's attractive.</td>\n",
       "    </tr>\n",
       "    <tr>\n",
       "      <th>56659</th>\n",
       "      <td>Joey</td>\n",
       "      <td>(sighs) Wow... I did not see this coming.</td>\n",
       "    </tr>\n",
       "    <tr>\n",
       "      <th>59770</th>\n",
       "      <td>Ross</td>\n",
       "      <td>You too! What are the odds?</td>\n",
       "    </tr>\n",
       "  </tbody>\n",
       "</table>\n",
       "</div>"
      ],
      "text/plain": [
       "      raw_character_text                                       spoken_words\n",
       "29001             Rachel                           Because a car backfired?\n",
       "44813             Monica  What?! Come on I am tough! Punch me right here...\n",
       "55212               Ross                    (to Emma) Can you say Barbados?\n",
       "28343             Phoebe                                         Umm, cups.\n",
       "51765           CHANDLER                          Is that really necessary?\n",
       "46444             Rachel  Yeah, but I don't know why. Look at me, I'm ha...\n",
       "27984               Joey  I got this pair marked excess, I gotta tell ya...\n",
       "1038        Receptionist                 (sarcastic) Oh, that's attractive.\n",
       "56659               Joey          (sighs) Wow... I did not see this coming.\n",
       "59770               Ross                        You too! What are the odds?"
      ]
     },
     "execution_count": 3,
     "metadata": {},
     "output_type": "execute_result"
    }
   ],
   "source": [
    "# LOADING DATA\n",
    "# random sample bc we are not using any seed\n",
    "df = pd.read_csv(f'{cwd}/Datasets/friends_dataset.csv', sep=';').dropna().reset_index(drop=True)\n",
    "df.sample(10)"
   ]
  },
  {
   "cell_type": "markdown",
   "metadata": {},
   "source": [
    "### <p><font color=mediumvioletred>&#128509; 2) Pre-Processing </font></p> \n",
    "We use gensim's text processing tools to define a function for **this** specific dataset (it doesn't clean html tags, URLs bc they are not present in our data)\n",
    "\n",
    "We later use SpaCy to lemmatize the text. ([Lemmatization Approaches with Examples in Python](https://www.machinelearningplus.com/nlp/lemmatization-examples-python/))\n",
    "\n",
    "<img src=\"Files/process_preprocess.png\" height=\"300\" width=\"300\">"
   ]
  },
  {
   "cell_type": "code",
   "execution_count": 4,
   "metadata": {
    "ExecuteTime": {
     "end_time": "2019-03-14T16:16:00.278280Z",
     "start_time": "2019-03-14T16:16:00.269003Z"
    }
   },
   "outputs": [],
   "source": [
    "def text_preproc(text: str):\n",
    "    \"\"\"Performs pre-processing steps on the given string.\n",
    "    \n",
    "    Pre-processing is done using methods from gensim module.\n",
    "    Methods are hard-coded in the function.\n",
    "    \n",
    "    Args:\n",
    "        text: A string\n",
    "    \n",
    "    Returns:\n",
    "        A list with tokenized and Pre-processed tokens of the given string.\n",
    "    \"\"\"\n",
    "    # use gensim methods to clean the text\n",
    "    my_filter = [\n",
    "        lambda x: x.lower(), # normalise everything to lowercase / \"DoG\" --> \"dog\"\n",
    "        gm.strip_punctuation, # replace ponctuation by spaces / \"hello, how are you ?\" --> \"hello  how are you  \" \n",
    "        gm.strip_multiple_whitespaces, #remove multiple whitespace / \"hello  how are you  \" --> \"hello how are you\" \n",
    "        gm.strip_numeric, # remove digits / \"1 2 3 soleil\" --> \"soleil\"\n",
    "        gm.remove_stopwords, # nltk has stopwords for each language, same for gensim / \"I just see the guy\" --> \"I just see guy\"\n",
    "        gm.strip_short, # remove shorts tokens like \"m\" \"ok m what do we do\" --> \"ok what do we do\"\n",
    "        gm.strip_tags, # remove tags / \"<i>Hello</i> <b>World</b>\" --> \"Hello World\"\n",
    "        #gm.stem_text\n",
    "    ]\n",
    "    return preprocess_string(text, filters=my_filter)"
   ]
  },
  {
   "cell_type": "code",
   "execution_count": 5,
   "metadata": {},
   "outputs": [
    {
     "data": {
      "application/vnd.jupyter.widget-view+json": {
       "model_id": "344a28dbc1ef47c7a21ed87494f151a8",
       "version_major": 2,
       "version_minor": 0
      },
      "text/plain": [
       "HBox(children=(IntProgress(value=0, description='Pre-Processing: Cleaning', max=61163, style=ProgressStyle(des…"
      ]
     },
     "metadata": {},
     "output_type": "display_data"
    },
    {
     "name": "stdout",
     "output_type": "stream",
     "text": [
      "\n"
     ]
    },
    {
     "data": {
      "application/vnd.jupyter.widget-view+json": {
       "model_id": "d7530289c8e44a759cae9d3bf2e87987",
       "version_major": 2,
       "version_minor": 0
      },
      "text/plain": [
       "HBox(children=(IntProgress(value=0, description='Pre-Processing: Lemmatizing', max=61163, style=ProgressStyle(…"
      ]
     },
     "metadata": {},
     "output_type": "display_data"
    },
    {
     "name": "stdout",
     "output_type": "stream",
     "text": [
      "\n"
     ]
    },
    {
     "data": {
      "application/vnd.jupyter.widget-view+json": {
       "model_id": "2e425ef06757455cb12b3e6ec0d7a7ff",
       "version_major": 2,
       "version_minor": 0
      },
      "text/plain": [
       "HBox(children=(IntProgress(value=0, description='Pre-Processing: Deduplicating', max=56526, style=ProgressStyl…"
      ]
     },
     "metadata": {},
     "output_type": "display_data"
    },
    {
     "name": "stdout",
     "output_type": "stream",
     "text": [
      "\n"
     ]
    }
   ],
   "source": [
    "# grabbing the column which contains the text\n",
    "text_column = 'spoken_words'\n",
    "data = df[text_column]\n",
    "\n",
    "# passing texts to the function we defined above\n",
    "training_set_raw = []\n",
    "for d in tqdm_notebook(data, desc='Pre-Processing: Cleaning'):\n",
    "    training_set_raw.append((text_preproc(d)))\n",
    "\n",
    "# initialize spacy 'en' model\n",
    "nlp = spacy.load('en', disable=['parser', 'ner'])\n",
    "\n",
    "# creating sentences from tokens\n",
    "training_sentence = [' '.join(d) for d in training_set_raw]\n",
    "\n",
    "# lemmatizing sentences\n",
    "training_set_0 = []\n",
    "for ts in tqdm_notebook(training_sentence, desc='Pre-Processing: Lemmatizing'):\n",
    "    doc = nlp(ts)\n",
    "    lemm = [token.lemma_ for token in doc]\n",
    "    if len(lemm) is not 0:\n",
    "        training_set_0.append(lemm)\n",
    "#  stemmers (dumb bc remove last part) / lemmatizers (intelligents but they exist for latin languages but ex for polish it's hell)\n",
    "# I moved a car / I move to Milan\n",
    "# went / gone        \n",
    "        \n",
    "# removing duplicated data\n",
    "training_set = []\n",
    "for l in tqdm_notebook(training_set_0, desc='Pre-Processing: Deduplicating'):\n",
    "    if l not in training_set:\n",
    "        training_set.append(l)"
   ]
  },
  {
   "cell_type": "code",
   "execution_count": 6,
   "metadata": {},
   "outputs": [
    {
     "name": "stdout",
     "output_type": "stream",
     "text": [
      "-There's nothing to tell! He's just some guy I work with!\n",
      "-tell guy work\n",
      "----------------------------------------\n",
      "-C'mon, you're going out with the guy! There's gotta be something wrong with him!\n",
      "-mon going guy get to wrong\n",
      "----------------------------------------\n",
      "-All right Joey, be nice.? So does he have a hump? A hump and a hairpiece?\n",
      "-right joey nice hump hump hairpiece\n",
      "----------------------------------------\n",
      "-Wait, does he eat chalk?\n",
      "-wait eat chalk\n",
      "----------------------------------------\n",
      "-Just, 'cause, I don't want her to go through what I went through with Carl- oh!\n",
      "-cause want go carl\n",
      "----------------------------------------\n"
     ]
    }
   ],
   "source": [
    "# result of the pre-processing for the first 5 sentences\n",
    "for i,j in zip(data[:5], training_set[:5]):\n",
    "    print(f\"-{i}\\n-{' '.join(j)}\")\n",
    "    print('-'*40)"
   ]
  },
  {
   "cell_type": "markdown",
   "metadata": {},
   "source": [
    "### <p><font color=mediumvioletred>&#128509; 3) N-Grams </font></p> \n",
    "\n",
    "To know more about ngrams: [Video: Introduction to N-grams](https://www.youtube.com/watch?v=dkUtavsPqNA\n",
    ")\n",
    "\n",
    "In this particular case we want to embed words using their neighbours, the words are frequently appear (or doesn't appear) close to them. Imagine that you want to calculate the occurrence probability of a set of three words : \n",
    "$$P(w_{1},w_{2},w_{3})$$\n",
    "We can write it in this way:\n",
    "$$P(w_{1},w_{2},w_{3}) = P(w_{1})P(w_{2}\\mid w_{1})P(w_{3}\\mid w_{1} w_{2})$$\n",
    "\n",
    "The general form of this formula is named Chain Rule:\n",
    "\n",
    "$$P(w_{1},w_{2},w_{3},...,w_{n}) = P(w_{1})P(w_{2}\\mid w_{1})...P(w_{n}\\mid w_{1}...w_{n-1})$$\n",
    "\n",
    "$$or$$\n",
    "\n",
    "$$P(w_{1}w_{2}...w_{i} )=\\prod  P(w_{i}\\mid w_{1} w_{2}...w_{i-1})$$\n",
    "\n",
    "To calculate the bigrams for our sentences, we use Phrases class from Gensim library. According to its documentation Phrases automatically detect common phrases (multi-word expressions / word n-grams) from a stream of sentences.\n",
    "\n",
    "<img src=\"Files/process_ngram.png\" height=\"300\" width=\"300\">"
   ]
  },
  {
   "cell_type": "code",
   "execution_count": 7,
   "metadata": {
    "ExecuteTime": {
     "end_time": "2019-03-14T16:28:03.068567Z",
     "start_time": "2019-03-14T16:28:03.057239Z"
    },
    "code_folding": []
   },
   "outputs": [],
   "source": [
    "def create_ngrams(data: list, log: bool = True, n=2):\n",
    "    \"\"\"Creates ngrams(2-3) from the given list of tokenized and cleaned data.\n",
    "    \n",
    "    Args:\n",
    "        data: a list of ([tokens], key) pairs.\n",
    "        log: If True, it prints the status.\n",
    "        \n",
    "    Returns : \n",
    "        A Gensim Trigram object.\n",
    "    \"\"\"\n",
    "    if log:\n",
    "        print(\"Learning lexicon from files...\")\n",
    "\n",
    "    if log:\n",
    "        print(\"Creating Bigrams...\")\n",
    "    ngrams = Phrases(data, min_count=30)\n",
    "    \n",
    "    if log:\n",
    "        print(\"Bigrams are Ready.\")\n",
    "    if n ==3:\n",
    "        if log:\n",
    "            print(\"Creating Trigrams...\")\n",
    "        ngrams = Phrases(ngrams[data], min_count=10, threshold=2)\n",
    "        if log:\n",
    "            print(\"Trigrams are ready to use.\")\n",
    "\n",
    "    return ngrams"
   ]
  },
  {
   "cell_type": "code",
   "execution_count": 8,
   "metadata": {
    "ExecuteTime": {
     "end_time": "2019-03-14T16:28:51.815706Z",
     "start_time": "2019-03-14T16:28:09.784414Z"
    },
    "code_folding": []
   },
   "outputs": [
    {
     "name": "stdout",
     "output_type": "stream",
     "text": [
      "Learning lexicon from files...\n",
      "Creating Bigrams...\n",
      "Bigrams are Ready.\n"
     ]
    }
   ],
   "source": [
    "ngram = create_ngrams(training_set, n=2)"
   ]
  },
  {
   "cell_type": "markdown",
   "metadata": {},
   "source": [
    "Notes: important thing: hyperparameter tuning for random forest, xgboost, knn etc is easy bc you have direct feedback VS word2vec you don't have direct feedback but there is recommandations in papers.\n",
    "\n",
    "For the size that work better: between 300 and 500. Not all the dataset can create a good model (600 episode is not a good dataset). It is powerful but depends on the data"
   ]
  },
  {
   "cell_type": "code",
   "execution_count": 9,
   "metadata": {
    "ExecuteTime": {
     "end_time": "2019-03-14T16:33:06.503472Z",
     "start_time": "2019-03-14T16:33:06.491084Z"
    }
   },
   "outputs": [],
   "source": [
    "def get_or_build_model(ngram: Phrases,\n",
    "                       skipgram: int=0, #skipgram or cbow\n",
    "                       size: int=300,\n",
    "                       window: int=2,\n",
    "                       min_count: int=20,\n",
    "                       alpha=0.03, #learning rate / how fast the nn should go forward\n",
    "                       negative=20, #negative sampling\n",
    "                       hs: int=1, #herachical softmax\n",
    "                       ns_exponent = 0.05, #negative sample distance\n",
    "                       iter=10,\n",
    "                       load: str=None,\n",
    "                       save: str=None,\n",
    "                       log: bool=True):\n",
    "    \n",
    "    \"\"\"Build or if a saved model exists, load the model.\n",
    "\n",
    "    Args: \n",
    "        ngram: ngram object created by create_ngrams() function.\n",
    "        skipgram: internal algorithm used to create the model. 0=CBOW, 1=skipgram. [default = 0]\n",
    "        size: Dimensionality of the word vectors.\n",
    "        window: Maximum distance between the current and predicted word within a sentence.\n",
    "        min_count: Ignores all words with total frequency lower than this.\n",
    "        alpha: The initial learning rate\n",
    "        hs: hierarchical softmax if 0 non-zero, negative sampling will be used.[default = 1]\n",
    "        load: file path to the pre-built model to be loaded. If None, model will be created [default = None]\n",
    "        save: file path to be used to save the created model. If None, model won't be saved locally [default = None]\n",
    "        log: whether log messages should be printed for the use [default = True]\n",
    "    \n",
    "    Returns:\n",
    "        A word2vec model\n",
    "    \"\"\"\n",
    "    if log:\n",
    "        print(\"Creating ngrams...\")\n",
    "    sentences = [ngram[pair] for pair in tqdm_notebook(training_set)]\n",
    "\n",
    "    if load is not None:\n",
    "        if log:\n",
    "            print(\"Loading model...\")\n",
    "        model = Word2Vec.load(f\"./{load}\")\n",
    "        if log:\n",
    "            print(\"Model has been loaded successfully.\")\n",
    "    else:\n",
    "        if log:\n",
    "            print(\"Building Word2Vec...\")\n",
    "        model = Word2Vec(\n",
    "            sentences,\n",
    "            size=size,\n",
    "            window=window,\n",
    "            min_count=min_count,\n",
    "            sg=skipgram,\n",
    "            hs=hs,\n",
    "            alpha=alpha, \n",
    "            negative=negative,\n",
    "            ns_exponent = ns_exponent,\n",
    "            iter=iter)\n",
    "        if log:\n",
    "            print(\"Model has been built.\")\n",
    "        if save is not None:\n",
    "            if log:\n",
    "                print(\"Saving the model...\")\n",
    "            model.save(f\"./{save}\")\n",
    "            if log:\n",
    "                print(\"Model has been saved successfully.\")\n",
    "\n",
    "    return model"
   ]
  },
  {
   "cell_type": "code",
   "execution_count": 10,
   "metadata": {
    "ExecuteTime": {
     "end_time": "2019-03-14T16:34:33.218212Z",
     "start_time": "2019-03-14T16:33:15.330851Z"
    }
   },
   "outputs": [
    {
     "name": "stdout",
     "output_type": "stream",
     "text": [
      "Creating ngrams...\n"
     ]
    },
    {
     "data": {
      "application/vnd.jupyter.widget-view+json": {
       "model_id": "edf1fc2e2a6840fc901fc5312e778ca8",
       "version_major": 2,
       "version_minor": 0
      },
      "text/plain": [
       "HBox(children=(IntProgress(value=0, max=43411), HTML(value='')))"
      ]
     },
     "metadata": {},
     "output_type": "display_data"
    },
    {
     "name": "stdout",
     "output_type": "stream",
     "text": [
      "\n",
      "Building Word2Vec...\n",
      "Model has been built.\n"
     ]
    }
   ],
   "source": [
    "# creating Word2Vec model\n",
    "model = get_or_build_model(ngram)"
   ]
  },
  {
   "cell_type": "code",
   "execution_count": 11,
   "metadata": {
    "ExecuteTime": {
     "end_time": "2019-03-14T16:40:46.707640Z",
     "start_time": "2019-03-14T16:40:46.687953Z"
    }
   },
   "outputs": [],
   "source": [
    "def n_most_similar(model: Word2Vec,\n",
    "                   text: str,\n",
    "                   n: int = 10):\n",
    "    \"\"\"Prints the n most similar words of the given string.\n",
    "\n",
    "    Args:\n",
    "        model : An object of Word2Vec class, created by get_or_build_model().\n",
    "        text : the string we want to get it similar words.\n",
    "        n : number of similar words we want to get [default = 10]        \n",
    "    \"\"\"\n",
    "\n",
    "    most_similar_to = model.wv.most_similar(positive=[text], topn=n)\n",
    "    for i, similar_item in enumerate(most_similar_to):\n",
    "        similar_key = similar_item[0]\n",
    "        score = str(round(float(similar_item[1]), 2))\n",
    "        print(f\"{i+1} - {similar_key} -- {score}\")\n"
   ]
  },
  {
   "cell_type": "code",
   "execution_count": 12,
   "metadata": {
    "ExecuteTime": {
     "end_time": "2019-03-14T16:41:03.051897Z",
     "start_time": "2019-03-14T16:41:02.929664Z"
    }
   },
   "outputs": [
    {
     "name": "stdout",
     "output_type": "stream",
     "text": [
      "1 - sit_couch -- 0.62\n",
      "2 - phoebe -- 0.6\n",
      "3 - joey -- 0.59\n",
      "4 - chandler -- 0.59\n",
      "5 - central_perk -- 0.59\n",
      "6 - turns -- 0.58\n",
      "7 - rachel -- 0.58\n",
      "8 - gladys -- 0.55\n",
      "9 - kitchen -- 0.53\n",
      "10 - friends -- 0.52\n"
     ]
    }
   ],
   "source": [
    "n_most_similar(model, text='monica', n=10)\n",
    "# it works bc learning rate = 0.3\n",
    "# if you have different books for instance it is relevant to have more negative sampling bc differents books/stories"
   ]
  },
  {
   "cell_type": "code",
   "execution_count": 13,
   "metadata": {},
   "outputs": [
    {
     "data": {
      "text/plain": [
       "'janice'"
      ]
     },
     "execution_count": 13,
     "metadata": {},
     "output_type": "execute_result"
    }
   ],
   "source": [
    "model.wv.doesnt_match([\"monica\", \"phoebe\", \"janice\"])"
   ]
  },
  {
   "cell_type": "code",
   "execution_count": 14,
   "metadata": {},
   "outputs": [
    {
     "data": {
      "text/plain": [
       "'janine'"
      ]
     },
     "execution_count": 14,
     "metadata": {},
     "output_type": "execute_result"
    }
   ],
   "source": [
    "model.wv.doesnt_match([\"carol\", \"emily\", \"janine\"])"
   ]
  },
  {
   "cell_type": "markdown",
   "metadata": {},
   "source": [
    "### <p><font color=mediumvioletred>&#128509; 4) Cosine Similarity </font></p> \n",
    "Cosine similarity is actually the Cosine of two vectors A and B in a Way that if they are orthogonal to each other (not similarity) the Cosine will be 0 and in case they are equal, the Cosine would be equal to 1.\n",
    "\n",
    "$$similarity\\,score = cos(\\theta ) = \\frac{A \\cdot B}{\\left \\| A  \\right \\| \\left \\| B  \\right \\|} =\\frac{\\sum_{i=1}^{n}A_{i}B_{i}}{\\sqrt{\\sum_{i=1}^{n}A_{i}^{2}} \\sqrt{\\sum_{i=1}^{n}B_{i}^{2}}}$$"
   ]
  },
  {
   "cell_type": "code",
   "execution_count": 15,
   "metadata": {
    "ExecuteTime": {
     "end_time": "2019-03-14T16:42:23.273634Z",
     "start_time": "2019-03-14T16:42:23.269688Z"
    }
   },
   "outputs": [
    {
     "data": {
      "text/plain": [
       "0.5915489"
      ]
     },
     "execution_count": 15,
     "metadata": {},
     "output_type": "execute_result"
    }
   ],
   "source": [
    "model.wv.n_similarity(['monica'], ['chandler'])"
   ]
  },
  {
   "cell_type": "markdown",
   "metadata": {},
   "source": [
    "### <p><font color=mediumvioletred>&#128509; 5) Visualization </font></p> \n",
    "\n",
    "We humans, can't visualise an object which has more than 3 dimensions! _(reminder: in our example we've created 300-dimension vectors)_\n",
    "\n",
    "The technique called **t-SNE** which stands for **t-Distributed Stochastic Neighbor Embedding** have been developped by Laurens van der Maaten and Geoffrey Hinton in 2008 ([Visualizing Data using t-SNE](http://www.jmlr.org/papers/volume9/vandermaaten08a/vandermaaten08a.pdf)). This technique permits to reduce a high-dimension model to a 2-3 dimension space.<br>\n",
    "Video: [StatQuest: t-SNE, Clearly Explained](https://www.youtube.com/watch?v=NEaUSP4YerM) <br>\n",
    "A good result from t-SNE is not so easy because there are LOTS of parameters you can/should modify inside t-SNE function. [How to Use t-SNE Effectively](https://distill.pub/2016/misread-tsne/) is a super-useful post with an interactive tool which helps you to play with parameters and discover their impact on the final results."
   ]
  },
  {
   "cell_type": "code",
   "execution_count": 16,
   "metadata": {
    "ExecuteTime": {
     "end_time": "2019-03-14T14:50:54.454057Z",
     "start_time": "2019-03-14T14:50:54.446059Z"
    }
   },
   "outputs": [],
   "source": [
    "def plot_tsne(model,\n",
    "              n_components: int=2,\n",
    "              perplexity:int =20,\n",
    "              learning_rate: int=10,\n",
    "              n_iter: int=1000,\n",
    "              metric: str='euclidean'):\n",
    "    \n",
    "    \"\"\"t-SNE plot for word-embedding model.\n",
    "    \n",
    "    Args:\n",
    "        n_components: Dimension of the embedded space.\n",
    "        perplexity: The perplexity is related to the number of nearest neighbors that\n",
    "            is used in other manifold learning algorithms. Larger datasets\n",
    "            usually require a larger perplexity. \n",
    "        learning_rate: The learning rate for t-SNE is usually in the range [10.0, 1000.0].\n",
    "            If the learning rate is too high, the data may look like a 'ball' with any\n",
    "            point approximately equidistant from its nearest neighbours.\n",
    "        n_iter: Maximum number of iterations for the optimization. Should be at least 250.\n",
    "        metric: The metric to use when calculating distance between instances in a \n",
    "            feature array.\n",
    "    \"\"\"\n",
    "\n",
    "    X = model[model.wv.vocab]\n",
    "    # diminesion reduction from 300 to 50 with PCA\n",
    "    X = PCA(n_components=50).fit_transform(X)\n",
    "\n",
    "    tsne = TSNE(\n",
    "        n_components=n_components,\n",
    "        perplexity=perplexity,\n",
    "        learning_rate=learning_rate,\n",
    "        n_iter=n_iter,\n",
    "        metric=metric)\n",
    "\n",
    "    X_tsne = tsne.fit_transform(X)\n",
    "    plt.figure(figsize=(13, 8))\n",
    "    plt.scatter(X_tsne[:, 0], X_tsne[:, 1], s=2, alpha=0.4)\n",
    "    plt.title('t-SNE plot', fontsize=20)\n",
    "    plt.xticks([])\n",
    "    plt.yticks([])\n",
    "    plt.show()"
   ]
  },
  {
   "cell_type": "code",
   "execution_count": 17,
   "metadata": {
    "ExecuteTime": {
     "end_time": "2019-03-14T15:33:32.803659Z",
     "start_time": "2019-03-14T14:50:58.116710Z"
    }
   },
   "outputs": [
    {
     "data": {
      "image/png": "[encoded data removed]",
      "text/plain": [
       "<Figure size 936x576 with 1 Axes>"
      ]
     },
     "metadata": {},
     "output_type": "display_data"
    }
   ],
   "source": [
    "plot_tsne(model) #t distributed stochastic // t-SNE is kinda like PCA but in more clever and accurate"
   ]
  },
  {
   "cell_type": "code",
   "execution_count": 18,
   "metadata": {},
   "outputs": [],
   "source": [
    "def plot_top_n(model, word, n:int = 30):\n",
    "    \n",
    "    \"\"\"t-SNE plot for top n similar words for the given input\n",
    "    \n",
    "    Args:\n",
    "        model : An object of Word2Vec class, created by get_or_build_model().\n",
    "        word : the string we want to plot similar words for\n",
    "        n : number of similar words we want to get [default = 10]   \n",
    "    \"\"\"\n",
    "    \n",
    "    X = model[model.wv.vocab]\n",
    "    tsne = TSNE(n_components=2,\n",
    "                  perplexity=20,\n",
    "                  learning_rate=10,\n",
    "                  n_iter=1000,\n",
    "                  metric='euclidean')\n",
    "\n",
    "    X_tsne = tsne.fit_transform(X)\n",
    "\n",
    "    tsne_df = pd.DataFrame([X_tsne[:, 0], X_tsne[:, 1]]).T\n",
    "    tsne_df.columns = ['X', 'Y']\n",
    "\n",
    "    tsne_df['words'] = model.wv.vocab.keys()\n",
    "\n",
    "    top = [x[0] for x in model.wv.most_similar(positive=[word], topn=n)]\n",
    "\n",
    "\n",
    "    df_point = tsne_df[tsne_df.words == word].reset_index(drop=True)\n",
    "    df_1 = tsne_df[tsne_df.words.isin(top)].reset_index(drop=True)\n",
    "    plt.scatter(df_1.X, df_1.Y)\n",
    "    plt.scatter(df_point.X, df_point.Y, c='r')\n",
    "    for i in range(len(df_1)):\n",
    "        plt.text(df_1.X[i], df_1.Y[i], df_1.words[i])\n",
    "    plt.text(df_point.X[0], df_point.Y[0], df_point.words[0], horizontalalignment='center')\n",
    "    plt.title(f'Top {n} words for {word}', fontsize=20)\n",
    "    plt.show()"
   ]
  },
  {
   "cell_type": "code",
   "execution_count": 19,
   "metadata": {},
   "outputs": [
    {
     "data": {
      "image/png": "[encoded data removed]",
      "text/plain": [
       "<Figure size 1080x720 with 1 Axes>"
      ]
     },
     "metadata": {
      "needs_background": "light"
     },
     "output_type": "display_data"
    }
   ],
   "source": [
    "plot_top_n(model, 'ross')"
   ]
  },
  {
   "cell_type": "markdown",
   "metadata": {},
   "source": [
    "## <p><font color=mediumorchid>&#127750; II) Doc2Vec Algorithm </font></p>\n",
    "\n",
    "**Doc2Vec** is a generalization of a Word2Vec algorithm which not only takes into consideration the context of words, but also takes into account the context of the the **document as a whole**.\n",
    "\n",
    "In the Doc2vec architecture, the two algorithm are:\n",
    "* **“continuous bag of words” (CBOW)** \n",
    "* **“skip-gram” (SG)**\n",
    "\n",
    "They correspond to the **“distributed memory” (DM)** and **“distributed bag of words” (DBOW)**.\n",
    "\n",
    "The following figure shows how  Word2Vec integrates the Document ID into the context:\n",
    "\n",
    "<img src=\"Files/doc2vec.jpg\" height=\"300\" width=\"500\">"
   ]
  },
  {
   "cell_type": "markdown",
   "metadata": {},
   "source": [
    "### <p><font color=mediumvioletred>&#128509; 1) Data preparation </font></p> \n",
    "While in Word2Vec example we used embeddings to create a visulization, in case of Doc2Vec we try to create a simple classifier which given a sentence can predict who's sentence is that!\n",
    "\n",
    "To do so we need to do a further step: **Balancing the data**"
   ]
  },
  {
   "cell_type": "code",
   "execution_count": 20,
   "metadata": {},
   "outputs": [],
   "source": [
    "# normalizing the names\n",
    "df['raw_character_text'] = [x.lower().strip() for x in df['raw_character_text']]"
   ]
  },
  {
   "cell_type": "code",
   "execution_count": 21,
   "metadata": {},
   "outputs": [
    {
     "data": {
      "text/plain": [
       "rachel      8955\n",
       "ross        8919\n",
       "chandler    8184\n",
       "monica      8171\n",
       "joey        8016\n",
       "phoebe      7264\n",
       "Name: raw_character_text, dtype: int64"
      ]
     },
     "execution_count": 21,
     "metadata": {},
     "output_type": "execute_result"
    }
   ],
   "source": [
    "df.raw_character_text.value_counts()[:6]"
   ]
  },
  {
   "cell_type": "markdown",
   "metadata": {},
   "source": [
    "**Phoebe** has the lowest lines (she's not one of the main character) : 7264 . One way to balance the data is down sample others to Phoebe's level:"
   ]
  },
  {
   "cell_type": "code",
   "execution_count": 22,
   "metadata": {},
   "outputs": [],
   "source": [
    "data_ra = df[df.raw_character_text == 'rachel'].sample(7264)\n",
    "data_ro = df[df.raw_character_text == 'ross'].sample(7264)\n",
    "data_ch = df[df.raw_character_text == 'chandler'].sample(7264)\n",
    "data_mo = df[df.raw_character_text == 'monica'].sample(7264)\n",
    "data_jo = df[df.raw_character_text == 'joey'].sample(7264)\n",
    "data_ph = df[df.raw_character_text == 'phoebe']"
   ]
  },
  {
   "cell_type": "markdown",
   "metadata": {},
   "source": [
    "Now we should individually divide data for each character to train and test and then combine them together."
   ]
  },
  {
   "cell_type": "code",
   "execution_count": 23,
   "metadata": {},
   "outputs": [],
   "source": [
    "data_ra_test = data_ra.sample(3226)\n",
    "data_ra_train = data_ra[~data_ra.index.isin(data_ra_test.index)]"
   ]
  },
  {
   "cell_type": "code",
   "execution_count": 24,
   "metadata": {},
   "outputs": [],
   "source": [
    "data_ro_test = data_ro.sample(3226)\n",
    "data_ro_train = data_ro[~data_ro.index.isin(data_ro_test.index)]"
   ]
  },
  {
   "cell_type": "code",
   "execution_count": 25,
   "metadata": {},
   "outputs": [],
   "source": [
    "data_ch_test = data_ch.sample(3226)\n",
    "data_ch_train = data_ch[~data_ch.index.isin(data_ch_test.index)]"
   ]
  },
  {
   "cell_type": "code",
   "execution_count": 26,
   "metadata": {},
   "outputs": [],
   "source": [
    "data_mo_test = data_mo.sample(3226)\n",
    "data_mo_train = data_mo[~data_mo.index.isin(data_mo_test.index)]"
   ]
  },
  {
   "cell_type": "code",
   "execution_count": 27,
   "metadata": {},
   "outputs": [],
   "source": [
    "data_jo_test = data_jo.sample(3226)\n",
    "data_jo_train = data_jo[~data_jo.index.isin(data_jo_test.index)]"
   ]
  },
  {
   "cell_type": "code",
   "execution_count": 28,
   "metadata": {},
   "outputs": [],
   "source": [
    "data_ph_test = data_ph.sample(3226)\n",
    "data_ph_train = data_ph[~data_ph.index.isin(data_ph_test.index)]"
   ]
  },
  {
   "cell_type": "code",
   "execution_count": 29,
   "metadata": {},
   "outputs": [],
   "source": [
    "# Training data\n",
    "data_train = pd.concat([data_ra_train, data_ro_train, data_ch_train, \n",
    "                      data_mo_train, data_jo_train, data_ph_train]).reset_index(drop=True)"
   ]
  },
  {
   "cell_type": "code",
   "execution_count": 30,
   "metadata": {},
   "outputs": [],
   "source": [
    "# Testing data\n",
    "data_test = pd.concat([data_ra_test, data_ro_test, data_ch_test, \n",
    "                      data_mo_test, data_jo_test, data_ph_test]).reset_index(drop=True)"
   ]
  },
  {
   "cell_type": "code",
   "execution_count": 31,
   "metadata": {},
   "outputs": [],
   "source": [
    "# Tagging each document with its label\n",
    "train_tagged = data_train.apply(lambda x: TaggedDocument(words=text_preproc(x['spoken_words']), tags=[x.raw_character_text]), axis=1)\n",
    "test_tagged = data_test.apply(lambda x: TaggedDocument(words=text_preproc(x['spoken_words']), tags=[x.raw_character_text]), axis=1)"
   ]
  },
  {
   "cell_type": "code",
   "execution_count": 32,
   "metadata": {},
   "outputs": [
    {
     "data": {
      "text/plain": [
       "TaggedDocument(words=['know'], tags=['rachel'])"
      ]
     },
     "execution_count": 32,
     "metadata": {},
     "output_type": "execute_result"
    }
   ],
   "source": [
    "# example\n",
    "train_tagged.values[42]"
   ]
  },
  {
   "cell_type": "markdown",
   "metadata": {},
   "source": [
    "### <p><font color=mediumvioletred>&#128509; 2) Model creation, train and test </font></p> \n",
    "As we mentioned before, in order to create a Doc2Vec model we have two options. Let's start from DBOW model:"
   ]
  },
  {
   "cell_type": "code",
   "execution_count": 33,
   "metadata": {},
   "outputs": [
    {
     "data": {
      "application/vnd.jupyter.widget-view+json": {
       "model_id": "35a405de1efa4bc1b9be431d5d612081",
       "version_major": 2,
       "version_minor": 0
      },
      "text/plain": [
       "HBox(children=(IntProgress(value=0, max=24228), HTML(value='')))"
      ]
     },
     "metadata": {},
     "output_type": "display_data"
    },
    {
     "name": "stdout",
     "output_type": "stream",
     "text": [
      "\n"
     ]
    }
   ],
   "source": [
    "# Inizializing the Doc2Vec model and creating the vocabulary\n",
    "model_dbow = Doc2Vec(dm=0, vector_size=300, negative=30, hs=0, min_count=6)\n",
    "model_dbow.build_vocab([x for x in tqdm_notebook(train_tagged.values)])"
   ]
  },
  {
   "cell_type": "code",
   "execution_count": 34,
   "metadata": {
    "scrolled": true
   },
   "outputs": [
    {
     "data": {
      "application/vnd.jupyter.widget-view+json": {
       "model_id": "558bcd16f7cc4180b1cd252b8868296c",
       "version_major": 2,
       "version_minor": 0
      },
      "text/plain": [
       "HBox(children=(IntProgress(value=0, description='Training model', max=30, style=ProgressStyle(description_widt…"
      ]
     },
     "metadata": {},
     "output_type": "display_data"
    },
    {
     "name": "stdout",
     "output_type": "stream",
     "text": [
      "\n"
     ]
    }
   ],
   "source": [
    "# training the model in 30 epochs\n",
    "for epoch in tqdm_notebook(range(30), desc= 'Training model'):\n",
    "    model_dbow.train(utils.shuffle([x for x in train_tagged.values]), total_examples=len(train_tagged.values), epochs=1)\n",
    "    model_dbow.alpha -= 0.002\n",
    "    model_dbow.min_alpha = model_dbow.alpha"
   ]
  },
  {
   "cell_type": "code",
   "execution_count": 35,
   "metadata": {},
   "outputs": [],
   "source": [
    "def labeled_vectors(model:Doc2Vec,\n",
    "                     tagged_docs:pd.core.series.Series):\n",
    "    \"\"\"Tagged vectors for the given model and documnets\n",
    "    \n",
    "    Args:\n",
    "        model: trained Doc2Vec model\n",
    "        tagged_docs: A pandas.Series which contains tagged documenst with their labels\n",
    "        \n",
    "    Returns:\n",
    "        labels and vectors for the giben documents\n",
    "        \n",
    "    \"\"\"\n",
    "    sents = tagged_docs.values\n",
    "    targets, regressors = zip(*[(doc.tags[0], model.infer_vector(doc.words, steps=20)) for doc in sents])\n",
    "    return targets, regressors"
   ]
  },
  {
   "cell_type": "code",
   "execution_count": 36,
   "metadata": {},
   "outputs": [
    {
     "name": "stdout",
     "output_type": "stream",
     "text": [
      "Accuracy: 0.1759\n",
      "F1 score: 0.162\n"
     ]
    }
   ],
   "source": [
    "y_train, X_train = labeled_vectors(model_dbow, train_tagged)\n",
    "y_test, X_test = labeled_vectors(model_dbow, test_tagged)\n",
    "logreg = LogisticRegression()\n",
    "logreg.fit(X_train, y_train)\n",
    "y_pred = logreg.predict(X_test)\n",
    "print(f'Accuracy: {round(accuracy_score(y_test, y_pred), 4)}')\n",
    "print(f'F1 score: {round(f1_score(y_test, y_pred, average=\"weighted\"),4)}')"
   ]
  },
  {
   "cell_type": "code",
   "execution_count": 37,
   "metadata": {},
   "outputs": [],
   "source": [
    "model_dm = Doc2Vec(dm=1, window=3, vector_size=300, negative=30, min_count=6,alpha=0.1, min_alpha=0.1)\n",
    "model_dm.build_vocab([x for x in train_tagged.values])"
   ]
  },
  {
   "cell_type": "code",
   "execution_count": 38,
   "metadata": {
    "scrolled": true
   },
   "outputs": [
    {
     "data": {
      "application/vnd.jupyter.widget-view+json": {
       "model_id": "cbd5b1863565438b95c257d8e12c6d70",
       "version_major": 2,
       "version_minor": 0
      },
      "text/plain": [
       "HBox(children=(IntProgress(value=0, description='Training model', max=30, style=ProgressStyle(description_widt…"
      ]
     },
     "metadata": {},
     "output_type": "display_data"
    },
    {
     "name": "stdout",
     "output_type": "stream",
     "text": [
      "\n"
     ]
    }
   ],
   "source": [
    "# training the model in 30 epochs\n",
    "for epoch in tqdm_notebook(range(30), desc= 'Training model'):\n",
    "    model_dm.train(utils.shuffle([x for x in train_tagged.values]), total_examples=len(train_tagged.values), epochs=1)\n",
    "    model_dm.alpha -= 0.002\n",
    "    model_dm.min_alpha = model_dm.alpha"
   ]
  },
  {
   "cell_type": "code",
   "execution_count": 39,
   "metadata": {},
   "outputs": [
    {
     "name": "stdout",
     "output_type": "stream",
     "text": [
      "Accuracy: 0.243\n",
      "F1 score: 0.2415\n"
     ]
    }
   ],
   "source": [
    "y_train, X_train = labeled_vectors(model_dm, train_tagged)\n",
    "y_test, X_test = labeled_vectors(model_dm, test_tagged)\n",
    "logreg.fit(X_train, y_train)\n",
    "y_pred = logreg.predict(X_test)\n",
    "print(f'Accuracy: {round(accuracy_score(y_test, y_pred), 4)}')\n",
    "print(f'F1 score: {round(f1_score(y_test, y_pred, average=\"weighted\"),4)}')"
   ]
  },
  {
   "cell_type": "markdown",
   "metadata": {},
   "source": [
    "According to creators of gensim library combining a paragraph vector from Distributed Bag of Words (DBOW) and Distributed Memory (DM) improves performance. We can delete training data of **model_dbow** and **model_dm** to free up the memory:"
   ]
  },
  {
   "cell_type": "code",
   "execution_count": 40,
   "metadata": {},
   "outputs": [],
   "source": [
    "model_dbow.delete_temporary_training_data(keep_doctags_vectors=True, keep_inference=True)\n",
    "model_dm.delete_temporary_training_data(keep_doctags_vectors=True, keep_inference=True)\n",
    "\n",
    "# concatenating models\n",
    "new_model = ConcatenatedDoc2Vec([model_dbow, model_dm])"
   ]
  },
  {
   "cell_type": "code",
   "execution_count": 41,
   "metadata": {},
   "outputs": [
    {
     "name": "stdout",
     "output_type": "stream",
     "text": [
      "Accuracy: 0.2461\n",
      "F1 score: 0.2444\n"
     ]
    }
   ],
   "source": [
    "y_train, X_train = labeled_vectors(new_model, train_tagged)\n",
    "y_test, X_test = labeled_vectors(new_model, test_tagged)\n",
    "logreg.fit(X_train, y_train)\n",
    "y_pred = logreg.predict(X_test)\n",
    "print(f'Accuracy: {round(accuracy_score(y_test, y_pred), 4)}')\n",
    "print(f'F1 score: {round(f1_score(y_test, y_pred, average=\"weighted\"),4)}')"
   ]
  },
  {
   "cell_type": "markdown",
   "metadata": {},
   "source": [
    "note:Doc2vec is better for classif / Word2vec is better for sentiment analysis\n",
    "\n",
    "random grid search is needed for parameters"
   ]
  },
  {
   "cell_type": "markdown",
   "metadata": {},
   "source": [
    "## <p><font color=mediumorchid>&#127750; Sources</font></p> \n",
    "* Navid Nobani Workshop (link ?)\n",
    "* [Distributed Representations of Words and Phrases and their Compositionality (Milkov et al)](https://papers.nips.cc/paper/5021-distributed-representations-of-words-and-phrases-and-their-compositionality.pdf)\n",
    "* [Gensim documentation](https://radimrehurek.com/gensim/index.html)\n",
    "* [RaRe-Technologies Github Page](https://github.com/RaRe-Technologies/gensim/blob/3c3506d51a2caf6b890de3b1b32a8b85f7566ca5/docs/notebooks/doc2vec-IMDB.ipynb)\n",
    "* [Multi-Class Text Classification with Doc2Vec & Logistic Regression by Susan Li](https://towardsdatascience.com/multi-class-text-classification-with-doc2vec-logistic-regression-9da9947b43f4)"
   ]
  }
 ],
 "metadata": {
  "kernelspec": {
   "display_name": "Python 3",
   "language": "python",
   "name": "python3"
  },
  "language_info": {
   "codemirror_mode": {
    "name": "ipython",
    "version": 3
   },
   "file_extension": ".py",
   "mimetype": "text/x-python",
   "name": "python",
   "nbconvert_exporter": "python",
   "pygments_lexer": "ipython3",
   "version": "3.7.1"
  },
  "notify_time": "5",
  "toc": {
   "base_numbering": 1,
   "nav_menu": {},
   "number_sections": false,
   "sideBar": true,
   "skip_h1_title": false,
   "title_cell": "Table of Contents",
   "title_sidebar": "Contents",
   "toc_cell": false,
   "toc_position": {},
   "toc_section_display": true,
   "toc_window_display": false
  },
  "varInspector": {
   "cols": {
    "lenName": 16,
    "lenType": 16,
    "lenVar": 40
   },
   "kernels_config": {
    "python": {
     "delete_cmd_postfix": "",
     "delete_cmd_prefix": "del ",
     "library": "var_list.py",
     "varRefreshCmd": "print(var_dic_list())"
    },
    "r": {
     "delete_cmd_postfix": ") ",
     "delete_cmd_prefix": "rm(",
     "library": "var_list.r",
     "varRefreshCmd": "cat(var_dic_list()) "
    }
   },
   "types_to_exclude": [
    "module",
    "function",
    "builtin_function_or_method",
    "instance",
    "_Feature"
   ],
   "window_display": false
  }
 },
 "nbformat": 4,
 "nbformat_minor": 1
}
